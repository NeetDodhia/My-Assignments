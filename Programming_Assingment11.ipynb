{
 "cells": [
  {
   "cell_type": "markdown",
   "metadata": {},
   "source": [
    "1) Write a Python program to find words which are greater than given length k?\n"
   ]
  },
  {
   "cell_type": "code",
   "execution_count": 1,
   "metadata": {},
   "outputs": [
    {
     "name": "stdout",
     "output_type": "stream",
     "text": [
      "['This', 'assignment', 'ineuron']\n"
     ]
    }
   ],
   "source": [
    "def stringcounter(k,str):\n",
    "    \n",
    "    string = []\n",
    "    text = str.split(\" \")\n",
    "    \n",
    "    for i in text:\n",
    "        if len(i) >= k:\n",
    "            string.append(i)\n",
    "    return string\n",
    "\n",
    "k = 4 \n",
    "str = 'This is my assignment for ineuron'\n",
    "\n",
    "print(stringcounter(k,str))\n",
    "        "
   ]
  },
  {
   "cell_type": "code",
   "execution_count": null,
   "metadata": {},
   "outputs": [],
   "source": []
  },
  {
   "cell_type": "markdown",
   "metadata": {},
   "source": [
    "2) Write a Python program for removing i-th character from a string?\n"
   ]
  },
  {
   "cell_type": "code",
   "execution_count": 2,
   "metadata": {},
   "outputs": [
    {
     "name": "stdout",
     "output_type": "stream",
     "text": [
      "This s an assignment for Ineuron\n"
     ]
    }
   ],
   "source": [
    "def remove(string, i): \n",
    "    \n",
    "    a = string[ : i] \n",
    "    b = string[i + 1: ]\n",
    "    return a + b\n",
    "      \n",
    "if __name__ == '__main__':\n",
    "    \n",
    "    string = \"This is an assignment for Ineuron\"\n",
    "    i = 5 \n",
    "    \n",
    "    print(remove(string, i))"
   ]
  },
  {
   "cell_type": "code",
   "execution_count": null,
   "metadata": {},
   "outputs": [],
   "source": []
  },
  {
   "cell_type": "markdown",
   "metadata": {},
   "source": [
    "3) Write a Python program to split and join a string?\n"
   ]
  },
  {
   "cell_type": "code",
   "execution_count": 3,
   "metadata": {},
   "outputs": [
    {
     "name": "stdout",
     "output_type": "stream",
     "text": [
      "['This', 'is', 'an', 'assignment', 'for', 'Ineuron']\n",
      "This-is-an-assignment-for-Ineuron\n"
     ]
    }
   ],
   "source": [
    "def split_string(string):\n",
    "  \n",
    "    string1 = string.split(' ') \n",
    "    return  string1\n",
    "  \n",
    "def join_string(string1):\n",
    "  \n",
    "    string2 = '-'.join(string1)  \n",
    "    return string2\n",
    "  \n",
    "string = 'This is an assignment for Ineuron'\n",
    "      \n",
    "string1 = split_string(string)\n",
    "print(string1)\n",
    "  \n",
    "new_string = join_string(string1)\n",
    "print(new_string)"
   ]
  },
  {
   "cell_type": "code",
   "execution_count": null,
   "metadata": {},
   "outputs": [],
   "source": []
  },
  {
   "cell_type": "markdown",
   "metadata": {},
   "source": [
    "4) Write a Python to check if a given string is binary string or not?"
   ]
  },
  {
   "cell_type": "code",
   "execution_count": 4,
   "metadata": {},
   "outputs": [
    {
     "name": "stdout",
     "output_type": "stream",
     "text": [
      "String is a binary string.\n"
     ]
    }
   ],
   "source": [
    "string = '0110101010111'\n",
    "b = {'0','1'}\n",
    "t = set(string)\n",
    "\n",
    "if b == t or t == {'0'} or t == {'1'}:\n",
    "    print(\"String is a binary string.\")\n",
    "else:\n",
    "    print(\"String is not a binary string.\")"
   ]
  },
  {
   "cell_type": "code",
   "execution_count": null,
   "metadata": {},
   "outputs": [],
   "source": []
  },
  {
   "cell_type": "markdown",
   "metadata": {},
   "source": [
    "5) Write a Python program to find uncommon words from two Strings?\n"
   ]
  },
  {
   "cell_type": "code",
   "execution_count": 5,
   "metadata": {},
   "outputs": [
    {
     "name": "stdout",
     "output_type": "stream",
     "text": [
      "Enter first string : This is an assignment \n",
      "Enter second string : This is my code \n",
      "All uncommon words from both the string are   an assignment my code\n"
     ]
    }
   ],
   "source": [
    "str1 = input('Enter first string : ')\n",
    "str2 = input('Enter second string : ')\n",
    "\n",
    "str1List = str1.split()\n",
    "str2List = str2.split()\n",
    "uncommonWords = ' '\n",
    "\n",
    "for words in str1List:\n",
    "    if words not in str2List:\n",
    "        uncommonWords = uncommonWords+\" \"+words\n",
    "for words in str2List:\n",
    "    if words not in str1List:\n",
    "        uncommonWords = uncommonWords+\" \"+words\n",
    "\n",
    "print(\"All uncommon words from both the string are\",uncommonWords)"
   ]
  },
  {
   "cell_type": "code",
   "execution_count": null,
   "metadata": {},
   "outputs": [],
   "source": []
  },
  {
   "cell_type": "markdown",
   "metadata": {},
   "source": [
    "6) Write a Python to find all duplicate characters in string?\n"
   ]
  },
  {
   "cell_type": "code",
   "execution_count": 6,
   "metadata": {},
   "outputs": [
    {
     "name": "stdout",
     "output_type": "stream",
     "text": [
      "Duplicate characters in a given string: \n",
      "r\n",
      "e\n",
      "t\n",
      "s\n",
      "i\n"
     ]
    }
   ],
   "source": [
    "string = \"Great responsibility\";  \n",
    "   \n",
    "print(\"Duplicate characters in a given string: \") \n",
    "\n",
    "for i in range(0, len(string)):  \n",
    "    count = 1 \n",
    "    for j in range(i+1, len(string)):  \n",
    "        if(string[i] == string[j] and string[i] != ' '): \n",
    "            count = count + 1  \n",
    "          \n",
    "            string = string[:j] + '0' + string[j+1:]  \n",
    "    \n",
    "    if(count > 1 and string[i] != '0'):  \n",
    "        print(string[i]) "
   ]
  },
  {
   "cell_type": "code",
   "execution_count": null,
   "metadata": {},
   "outputs": [],
   "source": []
  },
  {
   "cell_type": "markdown",
   "metadata": {},
   "source": [
    "7) Write a Python Program to check if a string contains any special character?"
   ]
  },
  {
   "cell_type": "code",
   "execution_count": 7,
   "metadata": {},
   "outputs": [
    {
     "name": "stdout",
     "output_type": "stream",
     "text": [
      "Enter any string: This$is@my#code%\n",
      "The string contains special characters.\n"
     ]
    }
   ],
   "source": [
    "import re\n",
    "\n",
    "string = input('Enter any string: ')\n",
    " \n",
    "special_char = re.compile('[@_!#$%^&*()<>?/\\|}{~:]')\n",
    "\n",
    "if(special_char.search(string) == None):\n",
    "    print('String does not contain any special characters.')\n",
    "else:\n",
    "    print('The string contains special characters.')"
   ]
  },
  {
   "cell_type": "code",
   "execution_count": null,
   "metadata": {},
   "outputs": [],
   "source": []
  }
 ],
 "metadata": {
  "kernelspec": {
   "display_name": "Python 3",
   "language": "python",
   "name": "python3"
  },
  "language_info": {
   "codemirror_mode": {
    "name": "ipython",
    "version": 3
   },
   "file_extension": ".py",
   "mimetype": "text/x-python",
   "name": "python",
   "nbconvert_exporter": "python",
   "pygments_lexer": "ipython3",
   "version": "3.8.5"
  }
 },
 "nbformat": 4,
 "nbformat_minor": 4
}
