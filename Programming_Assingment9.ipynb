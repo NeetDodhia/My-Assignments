{
 "cells": [
  {
   "cell_type": "markdown",
   "metadata": {},
   "source": [
    "1) Write a Python program to check if the given number is a Disarium Number?"
   ]
  },
  {
   "cell_type": "code",
   "execution_count": 1,
   "metadata": {},
   "outputs": [
    {
     "name": "stdout",
     "output_type": "stream",
     "text": [
      "Enter a number:175\n",
      "175 is a Disarium Number\n"
     ]
    }
   ],
   "source": [
    "def calculatelength(n):    \n",
    "    length = 0    \n",
    "    while(n != 0):    \n",
    "        length = length + 1    \n",
    "        n = n//10    \n",
    "    return length    \n",
    "\n",
    "\n",
    "num = int(input('Enter a number:'))\n",
    "rem = sum = 0    \n",
    "len = calculatelength(num) \n",
    "\n",
    "n = num\n",
    "\n",
    "while(num > 0):    \n",
    "    rem = num%10 \n",
    "    sum = sum + int(rem**len) \n",
    "    num = num//10 \n",
    "    len = len- 1\n",
    "    \n",
    "    \n",
    "if(sum == n):    \n",
    "    print(str(n) + \" is a Disarium Number\")   \n",
    "else:    \n",
    "    print(str(n) + \" is not a Disarium Number\")    "
   ]
  },
  {
   "cell_type": "code",
   "execution_count": null,
   "metadata": {},
   "outputs": [],
   "source": []
  },
  {
   "cell_type": "markdown",
   "metadata": {},
   "source": [
    "2) Write a Python program to print all disarium numbers between 1 to 100?"
   ]
  },
  {
   "cell_type": "code",
   "execution_count": 3,
   "metadata": {},
   "outputs": [
    {
     "name": "stdout",
     "output_type": "stream",
     "text": [
      "Disarium numbers between 1 and 100 are\n",
      "1\n",
      "2\n",
      "3\n",
      "4\n",
      "5\n",
      "6\n",
      "7\n",
      "8\n",
      "9\n",
      "89\n"
     ]
    }
   ],
   "source": [
    "def calculatelength(n):    \n",
    "    length = 0    \n",
    "    while(n != 0):    \n",
    "        length = length + 1    \n",
    "        n = n//10    \n",
    "    return length    \n",
    "      \n",
    "\n",
    "\n",
    "def sumOfDigits(num):    \n",
    "    rem = sum = 0    \n",
    "    len = calculatelength(num)   \n",
    "    \n",
    "    while(num > 0):    \n",
    "        rem = num%10    \n",
    "        sum = sum + (rem**len)   \n",
    "        num = num//10  \n",
    "        len = len - 1    \n",
    "    return sum;    \n",
    "      \n",
    "result = 0\n",
    "\n",
    "print(\"Disarium numbers between 1 and 100 are\")   \n",
    "for i in range(1, 101):    \n",
    "    result = sumOfDigits(i)   \n",
    "        \n",
    "    if(result == i):    \n",
    "        print(i)   "
   ]
  },
  {
   "cell_type": "code",
   "execution_count": null,
   "metadata": {},
   "outputs": [],
   "source": []
  },
  {
   "cell_type": "markdown",
   "metadata": {},
   "source": [
    "3) Write a Python program to check if the given number is Happy Number?"
   ]
  },
  {
   "cell_type": "code",
   "execution_count": 5,
   "metadata": {},
   "outputs": [
    {
     "name": "stdout",
     "output_type": "stream",
     "text": [
      "Enter a number :82\n",
      "82 is a Happy Number\n"
     ]
    }
   ],
   "source": [
    "def isHappyNumber(num):    \n",
    "    rem = sum = 0\n",
    "    \n",
    "    while(num > 0):    \n",
    "        rem = num%10\n",
    "        sum = sum + (rem*rem)\n",
    "        num = num//10 \n",
    "    return sum\n",
    "    \n",
    "\n",
    "\n",
    "num = int(input('Enter a number :'))    \n",
    "result = num\n",
    "\n",
    "while(result != 1 and result != 4): \n",
    "    result = isHappyNumber(result)\n",
    "    \n",
    "if(result == 1):\n",
    "    print(str(num) + \" is a Happy Number\")   \n",
    "elif(result == 4):\n",
    "    print(str(num) + \" is not a Happy Number\")  "
   ]
  },
  {
   "cell_type": "code",
   "execution_count": null,
   "metadata": {},
   "outputs": [],
   "source": []
  },
  {
   "cell_type": "markdown",
   "metadata": {},
   "source": [
    "4) Write a Python program to print all happy numbers between 1 and 100?\n"
   ]
  },
  {
   "cell_type": "code",
   "execution_count": 6,
   "metadata": {},
   "outputs": [
    {
     "name": "stdout",
     "output_type": "stream",
     "text": [
      "List of happy numbers between 1 and 100: \n",
      "1\n",
      "7\n",
      "10\n",
      "13\n",
      "19\n",
      "23\n",
      "28\n",
      "31\n",
      "32\n",
      "44\n",
      "49\n",
      "68\n",
      "70\n",
      "79\n",
      "82\n",
      "86\n",
      "91\n",
      "94\n",
      "97\n",
      "100\n"
     ]
    }
   ],
   "source": [
    "def isHappyNumber(num):    \n",
    "    rem = sum = 0    \n",
    "    \n",
    "    while(num > 0):    \n",
    "        rem = num%10    \n",
    "        sum = sum + (rem*rem)  \n",
    "        num = num//10    \n",
    "    return sum    \n",
    "              \n",
    "print(\"List of happy numbers between 1 and 100: \")\n",
    "for i in range(1, 101):    \n",
    "    result = i    \n",
    "            \n",
    "    while(result != 1 and result != 4):    \n",
    "        result = isHappyNumber(result)   \n",
    "        \n",
    "    if(result == 1):    \n",
    "        print(i)       "
   ]
  },
  {
   "cell_type": "code",
   "execution_count": null,
   "metadata": {},
   "outputs": [],
   "source": []
  },
  {
   "cell_type": "markdown",
   "metadata": {},
   "source": [
    "5) Write a Python program to determine whether the given number is a Harshad Number?\n"
   ]
  },
  {
   "cell_type": "code",
   "execution_count": 7,
   "metadata": {},
   "outputs": [
    {
     "name": "stdout",
     "output_type": "stream",
     "text": [
      "Enter a number : 80\n",
      "80 is a Harshad Number\n"
     ]
    }
   ],
   "source": [
    "num = int(input('Enter a number : '))    \n",
    "rem = sum = 0    \n",
    "     \n",
    "n = num    \n",
    "        \n",
    "while(num > 0):    \n",
    "    rem = num%10\n",
    "    sum = sum + rem \n",
    "    num = num//10\n",
    "     \n",
    "if(n%sum == 0):    \n",
    "    print(str(n) + \" is a Harshad Number\")    \n",
    "else:    \n",
    "    print(str(n) + \" is not a Harshad Number\")    "
   ]
  },
  {
   "cell_type": "code",
   "execution_count": null,
   "metadata": {},
   "outputs": [],
   "source": []
  },
  {
   "cell_type": "markdown",
   "metadata": {},
   "source": [
    "6) Write a Python program to print all pronic numbers between 1 and 100?"
   ]
  },
  {
   "cell_type": "code",
   "execution_count": 8,
   "metadata": {},
   "outputs": [
    {
     "name": "stdout",
     "output_type": "stream",
     "text": [
      "Pronic numbers between 1 and 100: \n",
      "2\n",
      "6\n",
      "12\n",
      "20\n",
      "30\n",
      "42\n",
      "56\n",
      "72\n",
      "90\n"
     ]
    }
   ],
   "source": [
    "def isPronicNumber(num):    \n",
    "    flag = False   \n",
    "        \n",
    "    for i in range(1, num+1):    \n",
    "        if((i*(i+1)) == num):    \n",
    "            flag = True    \n",
    "            break    \n",
    "    return flag  \n",
    "\n",
    "print(\"Pronic numbers between 1 and 100: \")\n",
    "\n",
    "for i in range(1, 101):    \n",
    "    if(isPronicNumber(i)):    \n",
    "        print(i)      "
   ]
  },
  {
   "cell_type": "code",
   "execution_count": null,
   "metadata": {},
   "outputs": [],
   "source": []
  }
 ],
 "metadata": {
  "kernelspec": {
   "display_name": "Python 3",
   "language": "python",
   "name": "python3"
  },
  "language_info": {
   "codemirror_mode": {
    "name": "ipython",
    "version": 3
   },
   "file_extension": ".py",
   "mimetype": "text/x-python",
   "name": "python",
   "nbconvert_exporter": "python",
   "pygments_lexer": "ipython3",
   "version": "3.8.5"
  }
 },
 "nbformat": 4,
 "nbformat_minor": 4
}
